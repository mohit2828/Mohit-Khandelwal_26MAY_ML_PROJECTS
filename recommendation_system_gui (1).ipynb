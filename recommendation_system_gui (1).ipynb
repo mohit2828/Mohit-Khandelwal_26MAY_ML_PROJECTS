{
 "cells": [
  {
   "cell_type": "code",
   "execution_count": 1,
   "metadata": {},
   "outputs": [],
   "source": [
    "import pandas as pd"
   ]
  },
  {
   "cell_type": "code",
   "execution_count": 2,
   "metadata": {},
   "outputs": [],
   "source": [
    "import numpy as np\n",
    "from tkinter import *"
   ]
  },
  {
   "cell_type": "code",
   "execution_count": 5,
   "metadata": {},
   "outputs": [
    {
     "ename": "SyntaxError",
     "evalue": "invalid syntax (<ipython-input-5-05bccd26b618>, line 54)",
     "output_type": "error",
     "traceback": [
      "\u001b[1;36m  File \u001b[1;32m\"<ipython-input-5-05bccd26b618>\"\u001b[1;36m, line \u001b[1;32m54\u001b[0m\n\u001b[1;33m    window.mainloop()\u001b[0m\n\u001b[1;37m    ^\u001b[0m\n\u001b[1;31mSyntaxError\u001b[0m\u001b[1;31m:\u001b[0m invalid syntax\n"
     ]
    }
   ],
   "source": [
    "cols='user_id item_id rating timestamp'.split()\n",
    "df = pd.read_csv(r'C:\\Users\\user\\OneDrive\\Desktop\\u.data',sep='\\t',names=cols)\n",
    "cols_movies = ['item_id','title']+[str(i) for i in range(22)]\n",
    "\n",
    "movies_titles = pd.read_csv(r'C:\\Users\\user\\OneDrive\\Desktop\\u.item',sep='|',names=cols_movies)\n",
    "movie_titles = movie_titles[['item_id','title']]\n",
    "data = pd.merge(df,movie_titles,on='item_id')\n",
    "rating = pd.DataFrame(data.groupby('title')['rating'].mean())\n",
    "pivot_df = data.pivot_table(index = 'user_id', columns = 'title' , values = 'rating')\n",
    "\n",
    "window  = Tk()\n",
    "window.title('Recommender System')\n",
    "\n",
    "window.geometry('350x200')\n",
    "\n",
    "lbl = Label(window, text = 'Movie You Watched',font=(\"aerial bold\",30)).place(x=25,y=25)\n",
    "\n",
    "lbl1 = Label(window, text = 'Recommended',font=(\"aerial bold\",30)).place(x=25,y=100)\n",
    "\n",
    "lbl2 = Label(window, text = 'Also try:',font=(\"aerial bold\",30)).place(x=25,y=125)\n",
    "\n",
    "movie_var = Variable(window)\n",
    "ent = Entry(window , textvariable = movie_var,width=28).place(x=150,y=25)\n",
    "\n",
    "recommend_var = Variable(window)\n",
    "\n",
    "recommend_var.set('Type movie name..')\n",
    "lbl3=Label(window,textvariable = recommend_var).place(x=150,y=100)\n",
    "\n",
    "also_try_var = Variable(window)\n",
    "\n",
    "also_try_var.set('Type movie name..')\n",
    "\n",
    "lbl4 = Label(window,textvariable = also_try_var).place(x=150,y=125)\n",
    "def find_recommendation():\n",
    "    movie = movie_var.get().lower().srtip()\n",
    "    if(movie):\n",
    "        try:\n",
    "            movie = movie_title['title'][movie_titles['title'].apply(lambda x: movie())].valures[0]\n",
    "            movie_var.set(movie)\n",
    "            \n",
    "        except IndexError:\n",
    "            recommend_var.set('Movie not found')\n",
    "            also_try_var.set('Movie not found')\n",
    "        else:\n",
    "            corr_df = pd.DataFrame(pivot_df.corrwith(pivot_df[movie]), columns = ['Correlation'])\n",
    "            corr_df.dropna(inplace=True)\n",
    "            corr_df = corr_df.join(rating['count'])\n",
    "            recommend_var.set(corr_df[(corr_df['count']>200)&(corr_df['Correlation']>0.4)].sort_values(by='Correlation',ascending=False).index[1])\n",
    "            also_try_var.set(corr_df[corr_df['Correaltion']>0.4].set_values(by='Correlation',ascending=False).index[0])\n",
    "                 \n",
    "btn = Button(window,text='Find Suggestion',command=find_recommendation,bg='yellow',font=(\"calibri\",30).place(x=125,y=60)\n",
    "             \n",
    "window.mainloop()"
   ]
  },
  {
   "cell_type": "code",
   "execution_count": null,
   "metadata": {},
   "outputs": [],
   "source": []
  }
 ],
 "metadata": {
  "kernelspec": {
   "display_name": "Python 3",
   "language": "python",
   "name": "python3"
  },
  "language_info": {
   "codemirror_mode": {
    "name": "ipython",
    "version": 3
   },
   "file_extension": ".py",
   "mimetype": "text/x-python",
   "name": "python",
   "nbconvert_exporter": "python",
   "pygments_lexer": "ipython3",
   "version": "3.8.5"
  }
 },
 "nbformat": 4,
 "nbformat_minor": 4
}
